{
 "cells": [
  {
   "cell_type": "code",
   "execution_count": 1,
   "outputs": [],
   "source": [
    "import torch\n",
    "import rul_datasets\n",
    "import torch.nn as nn\n",
    "import pandas as pd\n",
    "from models.models import *"
   ],
   "metadata": {
    "collapsed": false
   }
  },
  {
   "cell_type": "code",
   "execution_count": 2,
   "outputs": [],
   "source": [
    "# class Network(nn.Module):\n",
    "#     def __init__(self, in_channels, out_channels, kernel_size):\n",
    "#         super().__init__()\n",
    "#         # CNN feature extraction part\n",
    "#         self.conv_1 = nn.Conv1d(in_channels, out_channels, kernel_size)\n",
    "#         self.conv_2 = nn.Conv1d(out_channels, out_channels * 2, kernel_size - 2)\n",
    "#         self.relu = nn.ReLU()\n",
    "#         self.lstm = nn.LSTM((64, 8), 50)\n",
    "#         self.tanh = nn.Tanh()\n",
    "#\n",
    "#     def forward(self, time_series):\n",
    "#         interim = self.relu(self.conv_1(time_series))\n",
    "#         features = self.relu(self.conv_2(interim))\n",
    "#\n",
    "#         h_0 = torch.zeros(features.size(0), features.size(0))\n",
    "#         c_0 = torch.zeros(features.size(0), features.size(0))\n",
    "#         output, (h_n, c_n) = self.lstm_1(features, (h_0, c_0))\n",
    "#         # h_n = F.dropout(F.tanh(h_n), p=0.2)\n",
    "#         # c_n = F.dropout(F.tanh(c_n), p=0.2)\n",
    "#\n",
    "#         return features"
   ],
   "metadata": {
    "collapsed": false
   }
  },
  {
   "cell_type": "code",
   "execution_count": 3,
   "outputs": [],
   "source": [
    "reader = rul_datasets.CmapssReader(fd=1)"
   ],
   "metadata": {
    "collapsed": false
   }
  },
  {
   "cell_type": "code",
   "execution_count": 4,
   "outputs": [],
   "source": [
    "\"\"\"The features are a list of [numpy arrays][numpy.ndarray] where each array has a shape of\n",
    "`[num_windows, window_size, num_channels]`:\"\"\"\n",
    "dev_features, dev_targets = reader.load_split(\"dev\")\n",
    "val_features, val_targets = reader.load_split(\"val\")\n",
    "test_features, test_targets = reader.load_split(\"test\")"
   ],
   "metadata": {
    "collapsed": false
   }
  },
  {
   "cell_type": "code",
   "execution_count": 5,
   "outputs": [
    {
     "name": "stdout",
     "output_type": "stream",
     "text": [
      "dev features: (163, 30, 14)\n",
      "val features: (211, 30, 14)\n",
      "test features: (1, 30, 14)\n"
     ]
    }
   ],
   "source": [
    "print(f'dev features: {dev_features[0].shape}')\n",
    "print(f'val features: {val_features[0].shape}')\n",
    "print(f'test features: {test_features[0].shape}')"
   ],
   "metadata": {
    "collapsed": false
   }
  },
  {
   "cell_type": "code",
   "execution_count": 6,
   "outputs": [],
   "source": [
    "x = torch.tensor(dev_features[0][:32], dtype=torch.float)"
   ],
   "metadata": {
    "collapsed": false
   }
  },
  {
   "cell_type": "code",
   "execution_count": 7,
   "outputs": [
    {
     "data": {
      "text/plain": "torch.Size([32, 30, 14])"
     },
     "execution_count": 7,
     "metadata": {},
     "output_type": "execute_result"
    }
   ],
   "source": [
    "x.shape"
   ],
   "metadata": {
    "collapsed": false
   }
  },
  {
   "cell_type": "code",
   "execution_count": 8,
   "outputs": [
    {
     "ename": "TypeError",
     "evalue": "empty(): argument 'size' must be tuple of ints, but found element of type tuple at pos 2",
     "output_type": "error",
     "traceback": [
      "\u001B[0;31m---------------------------------------------------------------------------\u001B[0m",
      "\u001B[0;31mTypeError\u001B[0m                                 Traceback (most recent call last)",
      "Cell \u001B[0;32mIn [8], line 1\u001B[0m\n\u001B[0;32m----> 1\u001B[0m model \u001B[38;5;241m=\u001B[39m \u001B[43mNetwork\u001B[49m\u001B[43m(\u001B[49m\u001B[43min_channels\u001B[49m\u001B[38;5;241;43m=\u001B[39;49m\u001B[38;5;241;43m30\u001B[39;49m\u001B[43m,\u001B[49m\u001B[43m \u001B[49m\u001B[43mout_channels\u001B[49m\u001B[38;5;241;43m=\u001B[39;49m\u001B[38;5;241;43m32\u001B[39;49m\u001B[43m,\u001B[49m\u001B[43m \u001B[49m\u001B[43mkernel_size\u001B[49m\u001B[38;5;241;43m=\u001B[39;49m\u001B[38;5;241;43m5\u001B[39;49m\u001B[43m)\u001B[49m\n",
      "File \u001B[0;32m~/Dropbox/dev/nasa_cmapss/models/models.py:165\u001B[0m, in \u001B[0;36mNetwork.__init__\u001B[0;34m(self, in_channels, out_channels, kernel_size)\u001B[0m\n\u001B[1;32m    163\u001B[0m \u001B[38;5;28mself\u001B[39m\u001B[38;5;241m.\u001B[39mconv_2 \u001B[38;5;241m=\u001B[39m nn\u001B[38;5;241m.\u001B[39mConv1d(out_channels, out_channels \u001B[38;5;241m*\u001B[39m \u001B[38;5;241m2\u001B[39m, kernel_size \u001B[38;5;241m-\u001B[39m \u001B[38;5;241m2\u001B[39m)\n\u001B[1;32m    164\u001B[0m \u001B[38;5;28mself\u001B[39m\u001B[38;5;241m.\u001B[39mrelu \u001B[38;5;241m=\u001B[39m nn\u001B[38;5;241m.\u001B[39mReLU()\n\u001B[0;32m--> 165\u001B[0m \u001B[38;5;28mself\u001B[39m\u001B[38;5;241m.\u001B[39mlstm \u001B[38;5;241m=\u001B[39m \u001B[43mnn\u001B[49m\u001B[38;5;241;43m.\u001B[39;49m\u001B[43mLSTM\u001B[49m\u001B[43m(\u001B[49m\u001B[43m(\u001B[49m\u001B[38;5;241;43m64\u001B[39;49m\u001B[43m,\u001B[49m\u001B[43m \u001B[49m\u001B[38;5;241;43m8\u001B[39;49m\u001B[43m)\u001B[49m\u001B[43m,\u001B[49m\u001B[43m \u001B[49m\u001B[38;5;241;43m50\u001B[39;49m\u001B[43m)\u001B[49m\n\u001B[1;32m    166\u001B[0m \u001B[38;5;28mself\u001B[39m\u001B[38;5;241m.\u001B[39mtanh \u001B[38;5;241m=\u001B[39m nn\u001B[38;5;241m.\u001B[39mTanh()\n",
      "File \u001B[0;32m/opt/homebrew/Caskroom/miniconda/base/envs/lightning/lib/python3.10/site-packages/torch/nn/modules/rnn.py:673\u001B[0m, in \u001B[0;36mLSTM.__init__\u001B[0;34m(self, *args, **kwargs)\u001B[0m\n\u001B[1;32m    672\u001B[0m \u001B[38;5;28;01mdef\u001B[39;00m \u001B[38;5;21m__init__\u001B[39m(\u001B[38;5;28mself\u001B[39m, \u001B[38;5;241m*\u001B[39margs, \u001B[38;5;241m*\u001B[39m\u001B[38;5;241m*\u001B[39mkwargs):\n\u001B[0;32m--> 673\u001B[0m     \u001B[38;5;28;43msuper\u001B[39;49m\u001B[43m(\u001B[49m\u001B[43mLSTM\u001B[49m\u001B[43m,\u001B[49m\u001B[43m \u001B[49m\u001B[38;5;28;43mself\u001B[39;49m\u001B[43m)\u001B[49m\u001B[38;5;241;43m.\u001B[39;49m\u001B[38;5;21;43m__init__\u001B[39;49m\u001B[43m(\u001B[49m\u001B[38;5;124;43m'\u001B[39;49m\u001B[38;5;124;43mLSTM\u001B[39;49m\u001B[38;5;124;43m'\u001B[39;49m\u001B[43m,\u001B[49m\u001B[43m \u001B[49m\u001B[38;5;241;43m*\u001B[39;49m\u001B[43margs\u001B[49m\u001B[43m,\u001B[49m\u001B[43m \u001B[49m\u001B[38;5;241;43m*\u001B[39;49m\u001B[38;5;241;43m*\u001B[39;49m\u001B[43mkwargs\u001B[49m\u001B[43m)\u001B[49m\n",
      "File \u001B[0;32m/opt/homebrew/Caskroom/miniconda/base/envs/lightning/lib/python3.10/site-packages/torch/nn/modules/rnn.py:89\u001B[0m, in \u001B[0;36mRNNBase.__init__\u001B[0;34m(self, mode, input_size, hidden_size, num_layers, bias, batch_first, dropout, bidirectional, proj_size, device, dtype)\u001B[0m\n\u001B[1;32m     86\u001B[0m real_hidden_size \u001B[38;5;241m=\u001B[39m proj_size \u001B[38;5;28;01mif\u001B[39;00m proj_size \u001B[38;5;241m>\u001B[39m \u001B[38;5;241m0\u001B[39m \u001B[38;5;28;01melse\u001B[39;00m hidden_size\n\u001B[1;32m     87\u001B[0m layer_input_size \u001B[38;5;241m=\u001B[39m input_size \u001B[38;5;28;01mif\u001B[39;00m layer \u001B[38;5;241m==\u001B[39m \u001B[38;5;241m0\u001B[39m \u001B[38;5;28;01melse\u001B[39;00m real_hidden_size \u001B[38;5;241m*\u001B[39m num_directions\n\u001B[0;32m---> 89\u001B[0m w_ih \u001B[38;5;241m=\u001B[39m Parameter(\u001B[43mtorch\u001B[49m\u001B[38;5;241;43m.\u001B[39;49m\u001B[43mempty\u001B[49m\u001B[43m(\u001B[49m\u001B[43m(\u001B[49m\u001B[43mgate_size\u001B[49m\u001B[43m,\u001B[49m\u001B[43m \u001B[49m\u001B[43mlayer_input_size\u001B[49m\u001B[43m)\u001B[49m\u001B[43m,\u001B[49m\u001B[43m \u001B[49m\u001B[38;5;241;43m*\u001B[39;49m\u001B[38;5;241;43m*\u001B[39;49m\u001B[43mfactory_kwargs\u001B[49m\u001B[43m)\u001B[49m)\n\u001B[1;32m     90\u001B[0m w_hh \u001B[38;5;241m=\u001B[39m Parameter(torch\u001B[38;5;241m.\u001B[39mempty((gate_size, real_hidden_size), \u001B[38;5;241m*\u001B[39m\u001B[38;5;241m*\u001B[39mfactory_kwargs))\n\u001B[1;32m     91\u001B[0m b_ih \u001B[38;5;241m=\u001B[39m Parameter(torch\u001B[38;5;241m.\u001B[39mempty(gate_size, \u001B[38;5;241m*\u001B[39m\u001B[38;5;241m*\u001B[39mfactory_kwargs))\n",
      "\u001B[0;31mTypeError\u001B[0m: empty(): argument 'size' must be tuple of ints, but found element of type tuple at pos 2"
     ]
    }
   ],
   "source": [
    "model = Network(in_channels=30, out_channels=32, kernel_size=5)"
   ],
   "metadata": {
    "collapsed": false
   }
  },
  {
   "cell_type": "code",
   "execution_count": null,
   "outputs": [],
   "source": [
    "out = model.forward(x)"
   ],
   "metadata": {
    "collapsed": false
   }
  },
  {
   "cell_type": "code",
   "execution_count": null,
   "outputs": [],
   "source": [
    "df = pd.DataFrame(out[0].detach().numpy())"
   ],
   "metadata": {
    "collapsed": false
   }
  },
  {
   "cell_type": "code",
   "execution_count": 9,
   "outputs": [
    {
     "ename": "NameError",
     "evalue": "name 'df' is not defined",
     "output_type": "error",
     "traceback": [
      "\u001B[0;31m---------------------------------------------------------------------------\u001B[0m",
      "\u001B[0;31mNameError\u001B[0m                                 Traceback (most recent call last)",
      "Cell \u001B[0;32mIn [9], line 1\u001B[0m\n\u001B[0;32m----> 1\u001B[0m \u001B[43mdf\u001B[49m\n",
      "\u001B[0;31mNameError\u001B[0m: name 'df' is not defined"
     ]
    }
   ],
   "source": [
    "df"
   ],
   "metadata": {
    "collapsed": false
   }
  }
 ],
 "metadata": {
  "kernelspec": {
   "display_name": "Python 3",
   "language": "python",
   "name": "python3"
  },
  "language_info": {
   "codemirror_mode": {
    "name": "ipython",
    "version": 2
   },
   "file_extension": ".py",
   "mimetype": "text/x-python",
   "name": "python",
   "nbconvert_exporter": "python",
   "pygments_lexer": "ipython2",
   "version": "2.7.6"
  }
 },
 "nbformat": 4,
 "nbformat_minor": 0
}
