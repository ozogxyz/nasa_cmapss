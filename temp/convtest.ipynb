{
 "cells": [
  {
   "cell_type": "code",
   "execution_count": 1,
   "outputs": [
    {
     "name": "stderr",
     "output_type": "stream",
     "text": [
      "Global seed set to 42\n"
     ]
    }
   ],
   "source": [
    "import rul_datasets\n",
    "import torch\n",
    "import warnings\n",
    "\n",
    "import pytorch_lightning as pl\n",
    "\n",
    "from models.models import Network\n",
    "pl.seed_everything(42)\n",
    "warnings.filterwarnings(\"ignore\", \".*does not have many workers.*\")"
   ],
   "metadata": {
    "collapsed": false
   }
  },
  {
   "cell_type": "code",
   "execution_count": 2,
   "outputs": [],
   "source": [
    "# read data\n",
    "cmapss_fd1 = rul_datasets.CmapssReader(fd=1)\n",
    "dm = rul_datasets.RulDataModule(cmapss_fd1, batch_size=32)\n",
    "# create model\n",
    "model = Network(in_channels=14, out_channels=32, kernel_size=5)\n",
    "# create trainer context\n",
    "trainer = pl.Trainer(accelerator='mps', devices=1, max_epochs=100)\n",
    "# fit & test\n",
    "trainer.fit(model, dm) # (2)!\n",
    "trainer.test(model, dm)"
   ],
   "metadata": {
    "collapsed": false
   }
  },
  {
   "cell_type": "code",
   "execution_count": null,
   "outputs": [],
   "source": [
    "# dev_features, dev_targets = rul_datasets.CmapssReader(fd=1).load_split(\"dev\")\n",
    "# time_series = torch.tensor(dev_features[0], dtype=torch.float)\n",
    "# preds = model.forward(time_series).detach()\n",
    "# targets = torch.tensor(dev_targets[0])\n",
    "# loss = torch.nn.functional.mse_loss(preds, targets)\n",
    "# loss"
   ],
   "metadata": {
    "collapsed": false
   }
  }
 ],
 "metadata": {
  "kernelspec": {
   "display_name": "Python 3",
   "language": "python",
   "name": "python3"
  },
  "language_info": {
   "codemirror_mode": {
    "name": "ipython",
    "version": 2
   },
   "file_extension": ".py",
   "mimetype": "text/x-python",
   "name": "python",
   "nbconvert_exporter": "python",
   "pygments_lexer": "ipython2",
   "version": "2.7.6"
  }
 },
 "nbformat": 4,
 "nbformat_minor": 0
}
