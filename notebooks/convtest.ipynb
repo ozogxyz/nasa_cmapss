{
 "cells": [
  {
   "cell_type": "code",
   "execution_count": 1,
   "outputs": [],
   "source": [
    "import torch\n",
    "import rul_datasets\n",
    "import torch.nn as nn\n",
    "import torch.functional as F\n",
    "import pandas as pd\n",
    "\n",
    "\n",
    "class Network(nn.Module):\n",
    "    def __init__(self, in_channels, out_channels, kernel_size):\n",
    "        super().__init__()\n",
    "        # CNN feature extraction part\n",
    "        self.conv_1 = nn.Conv1d(in_channels, out_channels, kernel_size)\n",
    "        self.conv_2 = nn.Conv1d(out_channels, out_channels * 2, kernel_size - 2)\n",
    "        self.relu = nn.ReLU()\n",
    "\n",
    "    def forward(self, x):\n",
    "        # print(x)\n",
    "        x = self.relu(self.conv_1(x))\n",
    "        x = self.relu(self.conv_2(x))\n",
    "        return x"
   ],
   "metadata": {
    "collapsed": false
   }
  },
  {
   "cell_type": "code",
   "execution_count": 2,
   "outputs": [],
   "source": [
    "reader = rul_datasets.CmapssReader(fd=1)"
   ],
   "metadata": {
    "collapsed": false
   }
  },
  {
   "cell_type": "code",
   "execution_count": 3,
   "outputs": [],
   "source": [
    "\"\"\"The features are a list of [numpy arrays][numpy.ndarray] where each array has a shape of\n",
    "`[num_windows, window_size, num_channels]`:\"\"\"\n",
    "dev_features, dev_targets = reader.load_split(\"dev\")\n",
    "val_features, val_targets = reader.load_split(\"val\")\n",
    "test_features, test_targets = reader.load_split(\"test\")"
   ],
   "metadata": {
    "collapsed": false
   }
  },
  {
   "cell_type": "code",
   "execution_count": 4,
   "outputs": [
    {
     "name": "stdout",
     "output_type": "stream",
     "text": [
      "dev features: (163, 30, 14)\n",
      "val features: (211, 30, 14)\n",
      "test features: (1, 30, 14)\n"
     ]
    }
   ],
   "source": [
    "print(f'dev features: {dev_features[0].shape}')\n",
    "print(f'val features: {val_features[0].shape}')\n",
    "print(f'test features: {test_features[0].shape}')"
   ],
   "metadata": {
    "collapsed": false
   }
  },
  {
   "cell_type": "code",
   "execution_count": 5,
   "outputs": [],
   "source": [
    "x = torch.tensor(dev_features[0][0], dtype=torch.float)"
   ],
   "metadata": {
    "collapsed": false
   }
  },
  {
   "cell_type": "code",
   "execution_count": 6,
   "outputs": [],
   "source": [
    "model = Network(in_channels=30, out_channels=32, kernel_size=5)"
   ],
   "metadata": {
    "collapsed": false
   }
  },
  {
   "cell_type": "code",
   "execution_count": 7,
   "outputs": [],
   "source": [
    "features = model.forward(x)"
   ],
   "metadata": {
    "collapsed": false
   }
  },
  {
   "cell_type": "code",
   "execution_count": 9,
   "outputs": [
    {
     "data": {
      "text/plain": "           0         1         2         3         4         5         6  \\\n0   0.001234  0.089557  0.047049  0.073138  0.106403  0.068769  0.000000   \n1   0.079217  0.127023  0.005079  0.153122  0.056957  0.000000  0.146869   \n2   0.043286  0.013025  0.000000  0.073581  0.093274  0.000000  0.000000   \n3   0.000000  0.005102  0.026827  0.162233  0.000000  0.000000  0.060433   \n4   0.169007  0.000000  0.127790  0.147605  0.254063  0.041311  0.037219   \n..       ...       ...       ...       ...       ...       ...       ...   \n59  0.167111  0.022063  0.027995  0.000000  0.202807  0.075654  0.062648   \n60  0.067509  0.000000  0.000000  0.000000  0.116811  0.000000  0.011695   \n61  0.000000  0.000000  0.000000  0.000000  0.000000  0.000000  0.000000   \n62  0.000000  0.000000  0.029505  0.000000  0.000000  0.000000  0.000000   \n63  0.161212  0.175955  0.155257  0.143903  0.171894  0.164247  0.140588   \n\n           7  \n0   0.129263  \n1   0.063099  \n2   0.004745  \n3   0.147770  \n4   0.166956  \n..       ...  \n59  0.042769  \n60  0.020640  \n61  0.031159  \n62  0.188391  \n63  0.167233  \n\n[64 rows x 8 columns]",
      "text/html": "<div>\n<style scoped>\n    .dataframe tbody tr th:only-of-type {\n        vertical-align: middle;\n    }\n\n    .dataframe tbody tr th {\n        vertical-align: top;\n    }\n\n    .dataframe thead th {\n        text-align: right;\n    }\n</style>\n<table border=\"1\" class=\"dataframe\">\n  <thead>\n    <tr style=\"text-align: right;\">\n      <th></th>\n      <th>0</th>\n      <th>1</th>\n      <th>2</th>\n      <th>3</th>\n      <th>4</th>\n      <th>5</th>\n      <th>6</th>\n      <th>7</th>\n    </tr>\n  </thead>\n  <tbody>\n    <tr>\n      <th>0</th>\n      <td>0.001234</td>\n      <td>0.089557</td>\n      <td>0.047049</td>\n      <td>0.073138</td>\n      <td>0.106403</td>\n      <td>0.068769</td>\n      <td>0.000000</td>\n      <td>0.129263</td>\n    </tr>\n    <tr>\n      <th>1</th>\n      <td>0.079217</td>\n      <td>0.127023</td>\n      <td>0.005079</td>\n      <td>0.153122</td>\n      <td>0.056957</td>\n      <td>0.000000</td>\n      <td>0.146869</td>\n      <td>0.063099</td>\n    </tr>\n    <tr>\n      <th>2</th>\n      <td>0.043286</td>\n      <td>0.013025</td>\n      <td>0.000000</td>\n      <td>0.073581</td>\n      <td>0.093274</td>\n      <td>0.000000</td>\n      <td>0.000000</td>\n      <td>0.004745</td>\n    </tr>\n    <tr>\n      <th>3</th>\n      <td>0.000000</td>\n      <td>0.005102</td>\n      <td>0.026827</td>\n      <td>0.162233</td>\n      <td>0.000000</td>\n      <td>0.000000</td>\n      <td>0.060433</td>\n      <td>0.147770</td>\n    </tr>\n    <tr>\n      <th>4</th>\n      <td>0.169007</td>\n      <td>0.000000</td>\n      <td>0.127790</td>\n      <td>0.147605</td>\n      <td>0.254063</td>\n      <td>0.041311</td>\n      <td>0.037219</td>\n      <td>0.166956</td>\n    </tr>\n    <tr>\n      <th>...</th>\n      <td>...</td>\n      <td>...</td>\n      <td>...</td>\n      <td>...</td>\n      <td>...</td>\n      <td>...</td>\n      <td>...</td>\n      <td>...</td>\n    </tr>\n    <tr>\n      <th>59</th>\n      <td>0.167111</td>\n      <td>0.022063</td>\n      <td>0.027995</td>\n      <td>0.000000</td>\n      <td>0.202807</td>\n      <td>0.075654</td>\n      <td>0.062648</td>\n      <td>0.042769</td>\n    </tr>\n    <tr>\n      <th>60</th>\n      <td>0.067509</td>\n      <td>0.000000</td>\n      <td>0.000000</td>\n      <td>0.000000</td>\n      <td>0.116811</td>\n      <td>0.000000</td>\n      <td>0.011695</td>\n      <td>0.020640</td>\n    </tr>\n    <tr>\n      <th>61</th>\n      <td>0.000000</td>\n      <td>0.000000</td>\n      <td>0.000000</td>\n      <td>0.000000</td>\n      <td>0.000000</td>\n      <td>0.000000</td>\n      <td>0.000000</td>\n      <td>0.031159</td>\n    </tr>\n    <tr>\n      <th>62</th>\n      <td>0.000000</td>\n      <td>0.000000</td>\n      <td>0.029505</td>\n      <td>0.000000</td>\n      <td>0.000000</td>\n      <td>0.000000</td>\n      <td>0.000000</td>\n      <td>0.188391</td>\n    </tr>\n    <tr>\n      <th>63</th>\n      <td>0.161212</td>\n      <td>0.175955</td>\n      <td>0.155257</td>\n      <td>0.143903</td>\n      <td>0.171894</td>\n      <td>0.164247</td>\n      <td>0.140588</td>\n      <td>0.167233</td>\n    </tr>\n  </tbody>\n</table>\n<p>64 rows × 8 columns</p>\n</div>"
     },
     "execution_count": 9,
     "metadata": {},
     "output_type": "execute_result"
    }
   ],
   "source": [
    "pd.DataFrame(features.detach().numpy())"
   ],
   "metadata": {
    "collapsed": false
   }
  },
  {
   "cell_type": "code",
   "execution_count": null,
   "outputs": [],
   "source": [],
   "metadata": {
    "collapsed": false
   }
  }
 ],
 "metadata": {
  "kernelspec": {
   "display_name": "Python 3",
   "language": "python",
   "name": "python3"
  },
  "language_info": {
   "codemirror_mode": {
    "name": "ipython",
    "version": 2
   },
   "file_extension": ".py",
   "mimetype": "text/x-python",
   "name": "python",
   "nbconvert_exporter": "python",
   "pygments_lexer": "ipython2",
   "version": "2.7.6"
  }
 },
 "nbformat": 4,
 "nbformat_minor": 0
}
